{
 "cells": [
  {
   "cell_type": "code",
   "execution_count": 28,
   "id": "606ab171-52e4-426f-bf02-05d24caead3f",
   "metadata": {},
   "outputs": [],
   "source": [
    "# data폴더 안에있는 .ipynb_checkpoints폴더 전부 삭제\n",
    "!find ../data -name \".ipynb_checkpoints\" -exec rm -rf {} \\;"
   ]
  },
  {
   "cell_type": "code",
   "execution_count": 43,
   "id": "3b7c82e2-d036-464c-a0c3-7965277861a6",
   "metadata": {},
   "outputs": [],
   "source": [
    "import os\n",
    "import random\n",
    "import shutil\n",
    "\n",
    "# seed 10으로 설정\n",
    "random.seed(10)\n",
    "\n",
    "train_dir = '../data/train'\n",
    "val_dir = '../data/val'\n",
    "labels = os.listdir(train_dir)\n",
    "\n",
    "pass_list = ['../new_data/train', '../new_data/val']\n",
    "\n",
    "save_dir = os.mkdir('../new_data')\n",
    "\n",
    "for path in pass_list:\n",
    "    os.mkdir(path)\n",
    "    for label in labels:\n",
    "        os.mkdir(os.path.join(path, label))"
   ]
  },
  {
   "cell_type": "code",
   "execution_count": 44,
   "id": "dda06b66-2b5e-47a0-a39c-429a69f71451",
   "metadata": {},
   "outputs": [],
   "source": [
    "for label in labels:\n",
    "    target = os.listdir(os.path.join(train_dir, label))\n",
    "    src_list = random.sample(target,len(target)//5)\n",
    "    for src in src_list:\n",
    "        shutil.copy(os.path.join(train_dir,label,src),os.path.join(pass_list[0],label,src))"
   ]
  },
  {
   "cell_type": "code",
   "execution_count": 45,
   "id": "5c207597-f346-4567-923d-bdef52bab320",
   "metadata": {},
   "outputs": [],
   "source": [
    "for label in labels:\n",
    "    target = os.listdir(os.path.join(val_dir, label))\n",
    "    src_list = random.sample(target,len(target)//5)\n",
    "    for src in src_list:\n",
    "        shutil.copy(os.path.join(val_dir,label,src),os.path.join(pass_list[1],label,src))"
   ]
  },
  {
   "cell_type": "code",
   "execution_count": 46,
   "id": "6f5a2b9b-b82e-4637-80f7-82878c890764",
   "metadata": {},
   "outputs": [
    {
     "data": {
      "text/plain": [
       "'../new_data/test'"
      ]
     },
     "execution_count": 46,
     "metadata": {},
     "output_type": "execute_result"
    }
   ],
   "source": [
    "shutil.copytree(\"../data/test\", \"../new_data/test\")"
   ]
  },
  {
   "cell_type": "code",
   "execution_count": 48,
   "id": "bef00148-6bcf-4add-a22c-753ff0681191",
   "metadata": {},
   "outputs": [
    {
     "name": "stdout",
     "output_type": "stream",
     "text": [
      "Plasticbag \t\t 4879 975 1626 325\n",
      "Paperpack \t\t 1020 204 340 68\n",
      "Paper \t\t 4826 965 1608 321\n",
      "Plastic \t\t 2655 531 884 176\n",
      "Styrofoam \t\t 1092 218 364 72\n",
      "Metal \t\t 1168 233 389 77\n"
     ]
    }
   ],
   "source": [
    "for label in labels:\n",
    "    train_old_target = os.listdir(os.path.join(train_dir, label))\n",
    "    train_new_target = os.listdir(os.path.join(pass_list[0], label))\n",
    "    val_old_target = os.listdir(os.path.join(val_dir, label))\n",
    "    val_new_target = os.listdir(os.path.join(pass_list[1], label))\n",
    "    \n",
    "    \n",
    "    print(label,'\\t\\t',len(train_old_target),len(train_new_target),len(val_old_target),len(val_new_target))\n",
    "    "
   ]
  },
  {
   "cell_type": "code",
   "execution_count": 52,
   "id": "db9f8ae1-8ee3-4b49-929c-e267ed846fd7",
   "metadata": {},
   "outputs": [
    {
     "name": "stdout",
     "output_type": "stream",
     "text": [
      "5217 5217\n"
     ]
    }
   ],
   "source": [
    "a =len(os.listdir('../data/test/NoLabel'))\n",
    "b =len(os.listdir('../new_data/test/NoLabel'))\n",
    "print(a,b)"
   ]
  },
  {
   "cell_type": "code",
   "execution_count": null,
   "id": "d1335805-40dc-4c17-b44c-245e15e6a69f",
   "metadata": {},
   "outputs": [],
   "source": []
  }
 ],
 "metadata": {
  "kernelspec": {
   "display_name": "lightweight",
   "language": "python",
   "name": "lightweight"
  },
  "language_info": {
   "codemirror_mode": {
    "name": "ipython",
    "version": 3
   },
   "file_extension": ".py",
   "mimetype": "text/x-python",
   "name": "python",
   "nbconvert_exporter": "python",
   "pygments_lexer": "ipython3",
   "version": "3.7.11"
  }
 },
 "nbformat": 4,
 "nbformat_minor": 5
}
