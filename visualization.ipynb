{
 "cells": [
  {
   "cell_type": "code",
   "execution_count": 187,
   "metadata": {},
   "outputs": [],
   "source": [
    "import os\n",
    "import pickle\n",
    "import pandas as pd\n",
    "import matplotlib.pyplot as plt\n",
    "\n",
    "root = \"/opt/ml/code/results\"\n",
    "trial_folder = \"trial_2\"\n",
    "\n",
    "path = os.path.join(root, trial_folder)\n",
    "pickles = sorted(os.listdir(path), key = lambda x : int(x.split(\".\")[0])) # trial 순서대로 정렬"
   ]
  },
  {
   "cell_type": "code",
   "execution_count": 188,
   "metadata": {},
   "outputs": [],
   "source": [
    "results_sum = []\n",
    "results = []\n",
    "\n",
    "for i, p in enumerate(pickles):\n",
    "    with open(os.path.join(path, p), \"rb\") as f:\n",
    "        temp = pickle.load(f)\n",
    "        results.append(temp)\n",
    "        results_sum.append([i, temp[\"f1_score\"], temp[\"param_nums\"]])"
   ]
  },
  {
   "cell_type": "code",
   "execution_count": 189,
   "metadata": {},
   "outputs": [
    {
     "data": {
      "text/html": [
       "<div>\n",
       "<style scoped>\n",
       "    .dataframe tbody tr th:only-of-type {\n",
       "        vertical-align: middle;\n",
       "    }\n",
       "\n",
       "    .dataframe tbody tr th {\n",
       "        vertical-align: top;\n",
       "    }\n",
       "\n",
       "    .dataframe thead th {\n",
       "        text-align: right;\n",
       "    }\n",
       "</style>\n",
       "<table border=\"1\" class=\"dataframe\">\n",
       "  <thead>\n",
       "    <tr style=\"text-align: right;\">\n",
       "      <th></th>\n",
       "      <th>trial</th>\n",
       "      <th>f1</th>\n",
       "      <th>params</th>\n",
       "    </tr>\n",
       "  </thead>\n",
       "  <tbody>\n",
       "    <tr>\n",
       "      <th>50</th>\n",
       "      <td>50</td>\n",
       "      <td>0.351717</td>\n",
       "      <td>95308</td>\n",
       "    </tr>\n",
       "    <tr>\n",
       "      <th>51</th>\n",
       "      <td>51</td>\n",
       "      <td>0.315296</td>\n",
       "      <td>124940</td>\n",
       "    </tr>\n",
       "    <tr>\n",
       "      <th>52</th>\n",
       "      <td>52</td>\n",
       "      <td>0.344908</td>\n",
       "      <td>182204</td>\n",
       "    </tr>\n",
       "    <tr>\n",
       "      <th>53</th>\n",
       "      <td>53</td>\n",
       "      <td>0.331027</td>\n",
       "      <td>204796</td>\n",
       "    </tr>\n",
       "    <tr>\n",
       "      <th>54</th>\n",
       "      <td>54</td>\n",
       "      <td>0.342922</td>\n",
       "      <td>17532</td>\n",
       "    </tr>\n",
       "  </tbody>\n",
       "</table>\n",
       "</div>"
      ],
      "text/plain": [
       "    trial        f1  params\n",
       "50     50  0.351717   95308\n",
       "51     51  0.315296  124940\n",
       "52     52  0.344908  182204\n",
       "53     53  0.331027  204796\n",
       "54     54  0.342922   17532"
      ]
     },
     "execution_count": 189,
     "metadata": {},
     "output_type": "execute_result"
    }
   ],
   "source": [
    "df = pd.DataFrame(results_sum, columns = [\"trial\", \"f1\", \"params\"])\n",
    "df.tail(5)"
   ]
  },
  {
   "cell_type": "code",
   "execution_count": 190,
   "metadata": {},
   "outputs": [],
   "source": [
    "import matplotlib.pyplot as plt\n",
    "\n",
    "def show_result(df, mode = 0):\n",
    "    \"\"\"\n",
    "    mode 0 : default\n",
    "    mode 1 : stroke around data\n",
    "    mode 2 : stroke around data + number\n",
    "    \"\"\"\n",
    "    fig = plt.figure(figsize = (10, 10))\n",
    "    ax = fig.add_subplot(111)\n",
    "    \n",
    "    plt.scatter(y = df.params, x = df.f1, c = df.trial, cmap = 'plasma', label = \"results\")\n",
    "    if mode >= 1:\n",
    "        plt.scatter(y = df.params, x = df.f1, c = df.trial, cmap = 'plasma', label = \"results\", edgecolors= \"k\")\n",
    "    plt.title(\"results(f1 score, num_params) after 5 epochs\", pad = 10)\n",
    "    plt.ylabel(\"num_params\", labelpad = 10)\n",
    "    plt.xlabel(\"f1_score\", labelpad = 10)\n",
    "    if mode >= 2:\n",
    "        for i in range(len(df)):\n",
    "            ax.annotate(int(df.iloc[i].trial), (df.iloc[i].f1 ,df.iloc[i].params), xycoords = \"data\")\n",
    "\n",
    "    cbar = plt.colorbar()\n",
    "    cbar.set_label(\"trial_number\")\n",
    "    plt.show()"
   ]
  },
  {
   "cell_type": "code",
   "execution_count": 200,
   "metadata": {},
   "outputs": [
    {
     "data": {
      "image/png": "[encoded data removed]",
      "text/plain": [
       "<Figure size 720x720 with 2 Axes>"
      ]
     },
     "metadata": {
      "needs_background": "light"
     },
     "output_type": "display_data"
    }
   ],
   "source": [
    "show_result(df, mode = 0)"
   ]
  },
  {
   "cell_type": "code",
   "execution_count": null,
   "metadata": {},
   "outputs": [],
   "source": []
  }
 ],
 "metadata": {
  "interpreter": {
   "hash": "d4d1e4263499bec80672ea0156c357c1ee493ec2b1c70f0acce89fc37c4a6abe"
  },
  "kernelspec": {
   "display_name": "Python 3.8.5 64-bit ('base': conda)",
   "language": "python",
   "name": "python3"
  },
  "language_info": {
   "codemirror_mode": {
    "name": "ipython",
    "version": 3
   },
   "file_extension": ".py",
   "mimetype": "text/x-python",
   "name": "python",
   "nbconvert_exporter": "python",
   "pygments_lexer": "ipython3",
   "version": "3.8.5"
  },
  "orig_nbformat": 4
 },
 "nbformat": 4,
 "nbformat_minor": 2
}
